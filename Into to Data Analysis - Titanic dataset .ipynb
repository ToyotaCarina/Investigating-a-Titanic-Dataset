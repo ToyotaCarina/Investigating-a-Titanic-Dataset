{
 "cells": [
  {
   "cell_type": "markdown",
   "metadata": {},
   "source": [
    "# Project: Investigate a Dataset\n",
    "## Titanic data\n",
    "Data Analysis process starts with the question we want to find the answer for (problem we want to solve). \n",
    "In this case I want to find answer for the question \"What factors made people more likely to survive?\"\n",
    "Titanic Data contains demographics and passenger information from 891 of the 2224 passengers and crew on board the Titanic."
   ]
  },
  {
   "cell_type": "markdown",
   "metadata": {},
   "source": [
    "## Data wrangle phase\n",
    "I start process of data wrangling by loading data. I should be sure that data is in good format. If I found some problems I must fix it or clean the data if it's nessesary"
   ]
  },
  {
   "cell_type": "code",
   "execution_count": 1,
   "metadata": {},
   "outputs": [
    {
     "data": {
      "text/html": [
       "<div>\n",
       "<style>\n",
       "    .dataframe thead tr:only-child th {\n",
       "        text-align: right;\n",
       "    }\n",
       "\n",
       "    .dataframe thead th {\n",
       "        text-align: left;\n",
       "    }\n",
       "\n",
       "    .dataframe tbody tr th {\n",
       "        vertical-align: top;\n",
       "    }\n",
       "</style>\n",
       "<table border=\"1\" class=\"dataframe\">\n",
       "  <thead>\n",
       "    <tr style=\"text-align: right;\">\n",
       "      <th></th>\n",
       "      <th>PassengerId</th>\n",
       "      <th>Survived</th>\n",
       "      <th>Pclass</th>\n",
       "      <th>Name</th>\n",
       "      <th>Sex</th>\n",
       "      <th>Age</th>\n",
       "      <th>SibSp</th>\n",
       "      <th>Parch</th>\n",
       "      <th>Ticket</th>\n",
       "      <th>Fare</th>\n",
       "      <th>Cabin</th>\n",
       "      <th>Embarked</th>\n",
       "      <th>cnt</th>\n",
       "    </tr>\n",
       "  </thead>\n",
       "  <tbody>\n",
       "    <tr>\n",
       "      <th>0</th>\n",
       "      <td>1</td>\n",
       "      <td>0</td>\n",
       "      <td>3</td>\n",
       "      <td>Braund, Mr. Owen Harris</td>\n",
       "      <td>male</td>\n",
       "      <td>22.0</td>\n",
       "      <td>1</td>\n",
       "      <td>0</td>\n",
       "      <td>A/5 21171</td>\n",
       "      <td>7.2500</td>\n",
       "      <td>NaN</td>\n",
       "      <td>S</td>\n",
       "      <td>1</td>\n",
       "    </tr>\n",
       "    <tr>\n",
       "      <th>1</th>\n",
       "      <td>2</td>\n",
       "      <td>1</td>\n",
       "      <td>1</td>\n",
       "      <td>Cumings, Mrs. John Bradley (Florence Briggs Th...</td>\n",
       "      <td>female</td>\n",
       "      <td>38.0</td>\n",
       "      <td>1</td>\n",
       "      <td>0</td>\n",
       "      <td>PC 17599</td>\n",
       "      <td>71.2833</td>\n",
       "      <td>C85</td>\n",
       "      <td>C</td>\n",
       "      <td>1</td>\n",
       "    </tr>\n",
       "    <tr>\n",
       "      <th>2</th>\n",
       "      <td>3</td>\n",
       "      <td>1</td>\n",
       "      <td>3</td>\n",
       "      <td>Heikkinen, Miss. Laina</td>\n",
       "      <td>female</td>\n",
       "      <td>26.0</td>\n",
       "      <td>0</td>\n",
       "      <td>0</td>\n",
       "      <td>STON/O2. 3101282</td>\n",
       "      <td>7.9250</td>\n",
       "      <td>NaN</td>\n",
       "      <td>S</td>\n",
       "      <td>1</td>\n",
       "    </tr>\n",
       "    <tr>\n",
       "      <th>3</th>\n",
       "      <td>4</td>\n",
       "      <td>1</td>\n",
       "      <td>1</td>\n",
       "      <td>Futrelle, Mrs. Jacques Heath (Lily May Peel)</td>\n",
       "      <td>female</td>\n",
       "      <td>35.0</td>\n",
       "      <td>1</td>\n",
       "      <td>0</td>\n",
       "      <td>113803</td>\n",
       "      <td>53.1000</td>\n",
       "      <td>C123</td>\n",
       "      <td>S</td>\n",
       "      <td>1</td>\n",
       "    </tr>\n",
       "    <tr>\n",
       "      <th>4</th>\n",
       "      <td>5</td>\n",
       "      <td>0</td>\n",
       "      <td>3</td>\n",
       "      <td>Allen, Mr. William Henry</td>\n",
       "      <td>male</td>\n",
       "      <td>35.0</td>\n",
       "      <td>0</td>\n",
       "      <td>0</td>\n",
       "      <td>373450</td>\n",
       "      <td>8.0500</td>\n",
       "      <td>NaN</td>\n",
       "      <td>S</td>\n",
       "      <td>1</td>\n",
       "    </tr>\n",
       "  </tbody>\n",
       "</table>\n",
       "</div>"
      ],
      "text/plain": [
       "   PassengerId  Survived  Pclass  \\\n",
       "0            1         0       3   \n",
       "1            2         1       1   \n",
       "2            3         1       3   \n",
       "3            4         1       1   \n",
       "4            5         0       3   \n",
       "\n",
       "                                                Name     Sex   Age  SibSp  \\\n",
       "0                            Braund, Mr. Owen Harris    male  22.0      1   \n",
       "1  Cumings, Mrs. John Bradley (Florence Briggs Th...  female  38.0      1   \n",
       "2                             Heikkinen, Miss. Laina  female  26.0      0   \n",
       "3       Futrelle, Mrs. Jacques Heath (Lily May Peel)  female  35.0      1   \n",
       "4                           Allen, Mr. William Henry    male  35.0      0   \n",
       "\n",
       "   Parch            Ticket     Fare Cabin Embarked  cnt  \n",
       "0      0         A/5 21171   7.2500   NaN        S    1  \n",
       "1      0          PC 17599  71.2833   C85        C    1  \n",
       "2      0  STON/O2. 3101282   7.9250   NaN        S    1  \n",
       "3      0            113803  53.1000  C123        S    1  \n",
       "4      0            373450   8.0500   NaN        S    1  "
      ]
     },
     "execution_count": 1,
     "metadata": {},
     "output_type": "execute_result"
    }
   ],
   "source": [
    "from matplotlib.pyplot import pie, axis, show\n",
    "import pandas as pd\n",
    "import matplotlib.pyplot as plt\n",
    "    \n",
    "titanic_data = pd.read_csv('titanic_data.csv')\n",
    "titanic_data['cnt'] = 1 # New column I will use for count\n",
    "titanic_data.head()"
   ]
  },
  {
   "cell_type": "markdown",
   "metadata": {},
   "source": [
    "This is example of data from dataset.  "
   ]
  },
  {
   "cell_type": "code",
   "execution_count": 2,
   "metadata": {},
   "outputs": [
    {
     "data": {
      "text/plain": [
       "PassengerId      int64\n",
       "Survived         int64\n",
       "Pclass           int64\n",
       "Name            object\n",
       "Sex             object\n",
       "Age            float64\n",
       "SibSp            int64\n",
       "Parch            int64\n",
       "Ticket          object\n",
       "Fare           float64\n",
       "Cabin           object\n",
       "Embarked        object\n",
       "cnt              int64\n",
       "dtype: object"
      ]
     },
     "execution_count": 2,
     "metadata": {},
     "output_type": "execute_result"
    }
   ],
   "source": [
    "#Checking data types\n",
    "titanic_data.dtypes"
   ]
  },
  {
   "cell_type": "markdown",
   "metadata": {},
   "source": [
    "Data types seem great to me!"
   ]
  },
  {
   "cell_type": "markdown",
   "metadata": {},
   "source": [
    "I will focus on fields like Survived, Pclass, Sex, Age, Fare, Embarked.\n",
    "I want to be sure that all columns I will use doesn't have missing values."
   ]
  },
  {
   "cell_type": "code",
   "execution_count": 3,
   "metadata": {},
   "outputs": [
    {
     "name": "stdout",
     "output_type": "stream",
     "text": [
      "Number of empty rows in dataset\n"
     ]
    },
    {
     "data": {
      "text/plain": [
       "PassengerId      0\n",
       "Survived         0\n",
       "Pclass           0\n",
       "Name             0\n",
       "Sex              0\n",
       "Age            177\n",
       "SibSp            0\n",
       "Parch            0\n",
       "Ticket           0\n",
       "Fare             0\n",
       "Cabin          687\n",
       "Embarked         2\n",
       "cnt              0\n",
       "dtype: int64"
      ]
     },
     "execution_count": 3,
     "metadata": {},
     "output_type": "execute_result"
    }
   ],
   "source": [
    "print('Number of empty rows in dataset')\n",
    "titanic_data.isnull().sum()"
   ]
  },
  {
   "cell_type": "markdown",
   "metadata": {},
   "source": [
    "Column Age is important for me, so if I want to get more accurate results, I should do something about that.\n",
    "Coulumn Cabin has most missing values, but I will not analyse it now, so I will let it be.\n",
    "I will analyze Embarked, but I will not do something about this 2 missing values. I will not delete this rows, but I will handle them as \"Unknown\"."
   ]
  },
  {
   "cell_type": "markdown",
   "metadata": {},
   "source": [
    "There's several ways to sovle promlem with missing age:\n",
    "1. Find missing age in Google. It will gime me most correct results, but I will take time.\n",
    "2. I noticed that field \"Name\" contains title. So I could use it. I can find average age for every title (in google or in dataset) and replace empty values with it, depending on what title has a person, of course.\n",
    "\n",
    "For this project I will go for number 2."
   ]
  },
  {
   "cell_type": "code",
   "execution_count": 4,
   "metadata": {},
   "outputs": [
    {
     "data": {
      "text/html": [
       "<div>\n",
       "<style>\n",
       "    .dataframe thead tr:only-child th {\n",
       "        text-align: right;\n",
       "    }\n",
       "\n",
       "    .dataframe thead th {\n",
       "        text-align: left;\n",
       "    }\n",
       "\n",
       "    .dataframe tbody tr th {\n",
       "        vertical-align: top;\n",
       "    }\n",
       "</style>\n",
       "<table border=\"1\" class=\"dataframe\">\n",
       "  <thead>\n",
       "    <tr style=\"text-align: right;\">\n",
       "      <th></th>\n",
       "      <th>Title</th>\n",
       "      <th>Age</th>\n",
       "    </tr>\n",
       "  </thead>\n",
       "  <tbody>\n",
       "    <tr>\n",
       "      <th>0</th>\n",
       "      <td>Capt</td>\n",
       "      <td>70.000000</td>\n",
       "    </tr>\n",
       "    <tr>\n",
       "      <th>1</th>\n",
       "      <td>Col</td>\n",
       "      <td>58.000000</td>\n",
       "    </tr>\n",
       "    <tr>\n",
       "      <th>2</th>\n",
       "      <td>Don</td>\n",
       "      <td>40.000000</td>\n",
       "    </tr>\n",
       "    <tr>\n",
       "      <th>3</th>\n",
       "      <td>Dr</td>\n",
       "      <td>42.000000</td>\n",
       "    </tr>\n",
       "    <tr>\n",
       "      <th>4</th>\n",
       "      <td>Jonkheer</td>\n",
       "      <td>38.000000</td>\n",
       "    </tr>\n",
       "    <tr>\n",
       "      <th>5</th>\n",
       "      <td>Lady</td>\n",
       "      <td>48.000000</td>\n",
       "    </tr>\n",
       "    <tr>\n",
       "      <th>6</th>\n",
       "      <td>Major</td>\n",
       "      <td>48.500000</td>\n",
       "    </tr>\n",
       "    <tr>\n",
       "      <th>7</th>\n",
       "      <td>Master</td>\n",
       "      <td>4.574167</td>\n",
       "    </tr>\n",
       "    <tr>\n",
       "      <th>8</th>\n",
       "      <td>Miss</td>\n",
       "      <td>21.773973</td>\n",
       "    </tr>\n",
       "    <tr>\n",
       "      <th>9</th>\n",
       "      <td>Mlle</td>\n",
       "      <td>24.000000</td>\n",
       "    </tr>\n",
       "    <tr>\n",
       "      <th>10</th>\n",
       "      <td>Mme</td>\n",
       "      <td>24.000000</td>\n",
       "    </tr>\n",
       "    <tr>\n",
       "      <th>11</th>\n",
       "      <td>Mr</td>\n",
       "      <td>32.368090</td>\n",
       "    </tr>\n",
       "    <tr>\n",
       "      <th>12</th>\n",
       "      <td>Mrs</td>\n",
       "      <td>35.898148</td>\n",
       "    </tr>\n",
       "    <tr>\n",
       "      <th>13</th>\n",
       "      <td>Ms</td>\n",
       "      <td>28.000000</td>\n",
       "    </tr>\n",
       "    <tr>\n",
       "      <th>14</th>\n",
       "      <td>Rev</td>\n",
       "      <td>43.166667</td>\n",
       "    </tr>\n",
       "    <tr>\n",
       "      <th>15</th>\n",
       "      <td>Sir</td>\n",
       "      <td>49.000000</td>\n",
       "    </tr>\n",
       "    <tr>\n",
       "      <th>16</th>\n",
       "      <td>the Countess</td>\n",
       "      <td>33.000000</td>\n",
       "    </tr>\n",
       "  </tbody>\n",
       "</table>\n",
       "</div>"
      ],
      "text/plain": [
       "           Title        Age\n",
       "0           Capt  70.000000\n",
       "1            Col  58.000000\n",
       "2            Don  40.000000\n",
       "3             Dr  42.000000\n",
       "4       Jonkheer  38.000000\n",
       "5           Lady  48.000000\n",
       "6          Major  48.500000\n",
       "7         Master   4.574167\n",
       "8           Miss  21.773973\n",
       "9           Mlle  24.000000\n",
       "10           Mme  24.000000\n",
       "11            Mr  32.368090\n",
       "12           Mrs  35.898148\n",
       "13            Ms  28.000000\n",
       "14           Rev  43.166667\n",
       "15           Sir  49.000000\n",
       "16  the Countess  33.000000"
      ]
     },
     "execution_count": 4,
     "metadata": {},
     "output_type": "execute_result"
    }
   ],
   "source": [
    "# I will create a new column to extract title\n",
    "titanic_data['Title'] = titanic_data['Name'].apply(lambda x: x[x.find(', ')+2:x.find('.')])\n",
    "# And fill empty age cells with average values.\n",
    "titanic_data[\"Age\"] = titanic_data.groupby(\"Title\")['Age'].transform(lambda x: x.fillna(x.mean()))\n",
    "#I will display for clarity what is an averge age for every Title, based on data from data set \n",
    "titanic_avg_by_title = titanic_data.groupby('Title')['Age'].mean().reset_index()\n",
    "titanic_avg_by_title"
   ]
  },
  {
   "cell_type": "markdown",
   "metadata": {},
   "source": [
    "## Data exploration phase"
   ]
  },
  {
   "cell_type": "code",
   "execution_count": 5,
   "metadata": {
    "collapsed": true
   },
   "outputs": [],
   "source": [
    "def AgeClassifier(age):\n",
    "    if age != age:\n",
    "        return 'Unknown'\n",
    "    elif age <= 2:\n",
    "        return 'Infant'\n",
    "    elif age <= 13:\n",
    "        return 'Child'\n",
    "    elif age <= 20:\n",
    "        return 'Teen'\n",
    "    elif age <= 64:\n",
    "        return 'Adult'\n",
    "    else: return '65+'\n",
    "\n",
    "titanic_data['AgeCategory'] = titanic_data['Age'].map(AgeClassifier) # New column which I will use for analysis of age    "
   ]
  },
  {
   "cell_type": "markdown",
   "metadata": {},
   "source": [
    "### Total numbers"
   ]
  },
  {
   "cell_type": "code",
   "execution_count": 6,
   "metadata": {},
   "outputs": [
    {
     "name": "stdout",
     "output_type": "stream",
     "text": [
      "Total numbers of passengers: 891\n",
      "Number of survived passengers: 342\n",
      "Number of dead passengers: 549\n"
     ]
    }
   ],
   "source": [
    "titanic_data_survived = titanic_data[titanic_data['Survived'] == 1] # Survived people data frame\n",
    "titanic_data_dead = titanic_data[titanic_data['Survived'] == 0] # Dead people data frame\n",
    "\n",
    "print('Total numbers of passengers: ' + str(len(titanic_data)))\n",
    "print('Number of survived passengers: ' + str(len(titanic_data_survived)))\n",
    "print('Number of dead passengers: ' + str(len(titanic_data) - len(titanic_data_survived)))"
   ]
  },
  {
   "cell_type": "markdown",
   "metadata": {},
   "source": [
    "### Sex\n",
    "Let's see proportions between males and females on board"
   ]
  },
  {
   "cell_type": "code",
   "execution_count": 7,
   "metadata": {},
   "outputs": [
    {
     "name": "stdout",
     "output_type": "stream",
     "text": [
      "Female vs Male on board\n",
      "Sex\n",
      "female    314\n",
      "male      577\n",
      "dtype: int64\n",
      "\n",
      "Female vs Male survived\n",
      "Sex\n",
      "female    233\n",
      "male      109\n",
      "dtype: int64\n",
      "\n",
      "Female vs Male dead\n",
      "Sex\n",
      "female     81\n",
      "male      468\n",
      "dtype: int64\n"
     ]
    }
   ],
   "source": [
    "titanic_group_sex = titanic_data.groupby('Sex').size()\n",
    "titanic_group_sex_surv = titanic_data_survived.groupby('Sex').size()\n",
    "print ('Female vs Male on board')\n",
    "print (titanic_group_sex)\n",
    "print ('')\n",
    "print ('Female vs Male survived')\n",
    "print (titanic_group_sex_surv)\n",
    "print ('')\n",
    "print ('Female vs Male dead')\n",
    "print (titanic_group_sex - titanic_group_sex_surv)"
   ]
  },
  {
   "cell_type": "code",
   "execution_count": 8,
   "metadata": {},
   "outputs": [
    {
     "data": {
      "image/png": "[encoded data removed]",
      "text/plain": [
       "<matplotlib.figure.Figure at 0xaa37048>"
      ]
     },
     "metadata": {},
     "output_type": "display_data"
    },
    {
     "data": {
      "image/png": "[encoded data removed]",
      "text/plain": [
       "<matplotlib.figure.Figure at 0xacb7f28>"
      ]
     },
     "metadata": {},
     "output_type": "display_data"
    }
   ],
   "source": [
    "plt.figure(0)\n",
    "titanic_group_sex_pcent = titanic_group_sex /len(titanic_data)\n",
    "plt.title('Percentage of females and males on board')\n",
    "plt.pie(titanic_group_sex_pcent, labels=titanic_group_sex_pcent.index, autopct='%1.1f%%');\n",
    "plt.axis('equal') \n",
    "\n",
    "plt.figure(1)\n",
    "titanic_group_sex_surv_pcent = titanic_group_sex_surv /len(titanic_data_survived)\n",
    "plt.title('Percentage of survived females and males')\n",
    "plt.pie(titanic_group_sex_surv_pcent, labels=titanic_group_sex_surv_pcent.index, autopct='%1.1f%%');\n",
    "plt.axis('equal') \n",
    "\n",
    "plt.show()"
   ]
  },
  {
   "cell_type": "markdown",
   "metadata": {},
   "source": [
    "As we se in pie charts, there were almost twice men on board than females, but females was almost 68% of survivors.\n",
    "This means that female sex was one of the factors made people more likely to survive.\n",
    "But let's see if age is also one of these factors."
   ]
  },
  {
   "cell_type": "markdown",
   "metadata": {},
   "source": [
    "### Age \n",
    "I think about not look to age directly, but devide into age classes infant (0-2 y.o.), child (2-13 y.o.), teen (13-20 y.o.), adult (20-64) and 65+.\n",
    "There's different ways to classifier the age. These classes and age range was choosen by me. "
   ]
  },
  {
   "cell_type": "code",
   "execution_count": 9,
   "metadata": {
    "scrolled": false
   },
   "outputs": [
    {
     "name": "stdout",
     "output_type": "stream",
     "text": [
      "Possibility of survival for different age groups\n",
      "AgeCategory\n",
      "65+        9.090909\n",
      "Adult     36.872310\n",
      "Child     56.862745\n",
      "Infant    62.500000\n",
      "Teen      37.037037\n",
      "dtype: float64\n"
     ]
    },
    {
     "data": {
      "image/png": "[encoded data removed]",
      "text/plain": [
       "<matplotlib.figure.Figure at 0xa893438>"
      ]
     },
     "metadata": {},
     "output_type": "display_data"
    }
   ],
   "source": [
    "def draw_bar_chart(data_survived, data_dead, xlabels, chart_title, xlabel_name, ylabel_name):\n",
    "    ax = plt.subplot(111)\n",
    "    ax.bar(data_survived.index-0.2, data_survived['cnt'],width=0.4,color='#c6e0b4',align='center', label=\"Survived\")\n",
    "    ax.bar(data_dead.index+0.2, data_dead['cnt'],width=0.4,color='#f8cbad',align='center', label=\"Dead\")\n",
    "    ax.set_xticks(data_survived.index)\n",
    "    ax.set_xticklabels(xlabels)\n",
    "    plt.legend(bbox_to_anchor=(1.05, 1), loc=2, borderaxespad=0.)\n",
    "    plt.xlabel(xlabel_name)\n",
    "    plt.ylabel(ylabel_name)\n",
    "    plt.title(chart_title)\n",
    "    plt.show()\n",
    "\n",
    "def group_to_dataframe(data,column_name):\n",
    "    return data.groupby([column_name])['cnt'].sum().reset_index()\n",
    "\n",
    "titanic_age_survived = group_to_dataframe(titanic_data_survived,'AgeCategory')\n",
    "titanic_age_dead = group_to_dataframe(titanic_data_dead,'AgeCategory') \n",
    "\n",
    "titanic_age_pcent = titanic_data_survived.groupby(['AgeCategory']).size() / titanic_data.groupby(['AgeCategory']).size() * 100  \n",
    "print ('Possibility of survival for different age groups')\n",
    "print (titanic_age_pcent)\n",
    "\n",
    "draw_bar_chart(titanic_age_survived,titanic_age_dead,titanic_age_survived['AgeCategory'],\n",
    "               'Numbers of dead and survived people by age categories', 'Age class', 'People number')"
   ]
  },
  {
   "cell_type": "markdown",
   "metadata": {},
   "source": [
    "We see here, that infants and children have had a much bigger change to survive than 65+ persons. And about 1.6 times more chance to survive than teens and adults. But of course we must remember that we had 177 empty values in dataset, which was replaces by average age of title."
   ]
  },
  {
   "cell_type": "markdown",
   "metadata": {},
   "source": [
    "###\tTicket class (Pclass)"
   ]
  },
  {
   "cell_type": "code",
   "execution_count": 10,
   "metadata": {},
   "outputs": [
    {
     "data": {
      "image/png": "[encoded data removed]",
      "text/plain": [
       "<matplotlib.figure.Figure at 0x6190b70>"
      ]
     },
     "metadata": {},
     "output_type": "display_data"
    }
   ],
   "source": [
    "titanic_pclass_survived = group_to_dataframe(titanic_data_survived, 'Pclass')\n",
    "titanic_pclass_dead = group_to_dataframe(titanic_data_dead, 'Pclass')\n",
    "\n",
    "draw_bar_chart(titanic_pclass_survived,titanic_pclass_dead,titanic_pclass_survived['Pclass'],\n",
    "               'Numbers of dead and survived people by ticket class', 'Ticket class', 'People number')"
   ]
  },
  {
   "cell_type": "markdown",
   "metadata": {},
   "source": [
    "Trend shows that chance to survive are smaller with higher ticket class number."
   ]
  },
  {
   "cell_type": "markdown",
   "metadata": {},
   "source": [
    "###\tFare"
   ]
  },
  {
   "cell_type": "markdown",
   "metadata": {},
   "source": [
    "I believe that ticket class and fare are correlated."
   ]
  },
  {
   "cell_type": "code",
   "execution_count": 11,
   "metadata": {},
   "outputs": [
    {
     "name": "stdout",
     "output_type": "stream",
     "text": [
      "-0.549499619944\n"
     ]
    }
   ],
   "source": [
    "def correlation(x, y):\n",
    "    correlation = x.corr(y)#corrcoef(x,y)\n",
    "    return correlation\n",
    "Pclass = titanic_data['Pclass']\n",
    "Fare = titanic_data['Fare']\n",
    "print(correlation(Pclass,Fare))"
   ]
  },
  {
   "cell_type": "markdown",
   "metadata": {},
   "source": [
    "Negative value of correlation coefficient means that lower class pays higher price. Connection between fare and ticket class is middle (not weak and not very strong). I expected it will be a little bit heigher.  "
   ]
  },
  {
   "cell_type": "code",
   "execution_count": 12,
   "metadata": {},
   "outputs": [
    {
     "data": {
      "text/plain": [
       "count    891.000000\n",
       "mean      32.204208\n",
       "std       49.693429\n",
       "min        0.000000\n",
       "25%        7.910400\n",
       "50%       14.454200\n",
       "75%       31.000000\n",
       "max      512.329200\n",
       "Name: Fare, dtype: float64"
      ]
     },
     "execution_count": 12,
     "metadata": {},
     "output_type": "execute_result"
    }
   ],
   "source": [
    "titanic_data['Fare'].describe()"
   ]
  },
  {
   "cell_type": "markdown",
   "metadata": {},
   "source": [
    "I see that maximum price for ticket is 512.32. but average price is 32.2. It's very interesting. 75% of tickets have price 31 and lower."
   ]
  },
  {
   "cell_type": "markdown",
   "metadata": {},
   "source": [
    "We see that number of survived people are higher than number of dead if ticket price is above 50."
   ]
  },
  {
   "cell_type": "code",
   "execution_count": 13,
   "metadata": {
    "scrolled": false
   },
   "outputs": [
    {
     "data": {
      "image/png": "[encoded data removed]",
      "text/plain": [
       "<matplotlib.figure.Figure at 0xba3d780>"
      ]
     },
     "metadata": {},
     "output_type": "display_data"
    }
   ],
   "source": [
    "def draw_hist_fare():\n",
    "    survival_status = ['survived', 'dead']\n",
    "    fig = plt.figure(figsize = (10,10)) \n",
    "    ax = fig.gca()    \n",
    "    ax.hist([titanic_fare_survived['Fare'],titanic_fare_dead['Fare']], color=['#c6e0b4','#f8cbad'], \n",
    "             weights = [titanic_fare_survived['cnt'],titanic_fare_dead['cnt']], stacked=True, label=survival_status)\n",
    "    plt.xlabel('Fare')\n",
    "    plt.ylabel('Number of people')\n",
    "    ax.legend(prop={'size': 15})\n",
    "    plt.title('Histogram of Fare group by survival status')\n",
    "    plt.show()\n",
    "\n",
    "titanic_fare_survived = group_to_dataframe(titanic_data_survived, 'Fare')\n",
    "titanic_fare_dead = group_to_dataframe(titanic_data_dead, 'Fare')\n",
    "draw_hist_fare()"
   ]
  },
  {
   "cell_type": "code",
   "execution_count": 14,
   "metadata": {},
   "outputs": [
    {
     "name": "stdout",
     "output_type": "stream",
     "text": [
      "Embarked  Survived\n",
      "C         0            75\n",
      "          1            93\n",
      "Q         0            47\n",
      "          1            30\n",
      "S         0           427\n",
      "          1           217\n",
      "dtype: int64\n",
      "\n",
      "Possibility of survival for different ports of Embarkation\n",
      "Embarked\n",
      "C    55.357143\n",
      "Q    38.961039\n",
      "S    33.695652\n",
      "dtype: float64\n",
      "\n",
      "Where C = Cherbourg, Q = Queenstown, S = Southampton\n"
     ]
    }
   ],
   "source": [
    "#let's group titanic data by Embarked and Suvived columns\n",
    "titanic_emb_surv = titanic_data.groupby(['Embarked','Survived']).size()\n",
    "print(titanic_emb_surv)\n",
    "print('')\n",
    "titanic_embarked_groups = titanic_data_survived.groupby(['Embarked']).size() / titanic_data.groupby(['Embarked']).size() * 100  \n",
    "print('Possibility of survival for different ports of Embarkation')\n",
    "print(titanic_embarked_groups)\n",
    "print('')\n",
    "print('Where C = Cherbourg, Q = Queenstown, S = Southampton')"
   ]
  },
  {
   "cell_type": "markdown",
   "metadata": {},
   "source": [
    "It's just 33,7% of people whoe came on board in Southampton did survived. But can we just conclude that if this person came on bord in Cherbourg, he had a more change to survive? I don't think so. \n",
    "I think it's an indirect factor"
   ]
  },
  {
   "cell_type": "markdown",
   "metadata": {},
   "source": [
    "## Conclution \n",
    "Dataset I analyzed in this report contains demographics and passenger information from 891 of the 2224 passengers and crew on board the Titanic. 177 rows are missing age value. During analysis I replaced missing values with title's average age.\n",
    "Embarked column had 2 missing values and they are not included in analysis. Result of my analysis would be more accurate with full dataset.\n",
    "\n",
    "First factor I analyzed was sex: statistics shows that women was more likely to survive than men.\n",
    "<br>When I devided age to classes (infant, child, teenager, adult and 65+), I found out that percetange of survived infants and children under 13 are higher than adults and especially 65+ people. This result are not exact because of missing values. \n",
    "<br>Ananlysing ticket class and fare I observe a tendency that there were more survied people in higher class.\n",
    "\n",
    "So what factors made people more likely to survive?\n",
    "<br>Based on dataset I have and analyze I've done I could say: [\"Women and children first\"](https://en.wikipedia.org/wiki/Women_and_children_first)\n",
    "\n",
    "I didn't analyze every information I've had about passengers, so in further research I could:\n",
    "1. look more into titles I retrived from Name column and split it into groups (from low range to royal, if it's possible). \n",
    "2. Analyze survival status by ticket class in combination with fare or cabin deck. \n",
    "3. find answer to question \"Did bigger families were less likely to survive?\".       "
   ]
  }
 ],
 "metadata": {
  "kernelspec": {
   "display_name": "Python 2",
   "language": "python",
   "name": "python2"
  },
  "language_info": {
   "codemirror_mode": {
    "name": "ipython",
    "version": 2
   },
   "file_extension": ".py",
   "mimetype": "text/x-python",
   "name": "python",
   "nbconvert_exporter": "python",
   "pygments_lexer": "ipython2",
   "version": "2.7.13"
  }
 },
 "nbformat": 4,
 "nbformat_minor": 2
}
